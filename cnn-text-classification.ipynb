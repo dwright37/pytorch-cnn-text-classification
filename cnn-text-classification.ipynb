{
 "cells": [
  {
   "cell_type": "code",
   "execution_count": 1,
   "metadata": {},
   "outputs": [
    {
     "name": "stdout",
     "output_type": "stream",
     "text": [
      "Random Seed:  7\n"
     ]
    },
    {
     "data": {
      "text/plain": [
       "<torch._C.Generator at 0x2abadd2974b0>"
      ]
     },
     "execution_count": 1,
     "metadata": {},
     "output_type": "execute_result"
    }
   ],
   "source": [
    "import random\n",
    "import numpy as np\n",
    "import torch as th\n",
    "import torch.nn as nn\n",
    "import torch.optim as optim\n",
    "from torch.utils.data import Dataset\n",
    "import pandas as pd\n",
    "from tqdm import tqdm\n",
    "from collections import defaultdict\n",
    "\n",
    "from model import CharacterCNN\n",
    "from model import weights_init\n",
    "from model import DatasetReader\n",
    "\n",
    "# Set random seem for reproducibility\n",
    "manualSeed = 7\n",
    "#manualSeed = random.randint(1, 10000) # use if you want new results\n",
    "print(\"Random Seed: \", manualSeed)\n",
    "random.seed(manualSeed)\n",
    "th.manual_seed(manualSeed)"
   ]
  },
  {
   "cell_type": "code",
   "execution_count": 2,
   "metadata": {},
   "outputs": [],
   "source": [
    "#Character vocab\n",
    "char_inventory = 'abcdefghijklmnopqrstuvwxyz0123456789-,;.!?:\\'\"/\\\\|_@#$%ˆ&*˜`+-=<>()[]{}\\n'\n",
    "\n",
    "vocab = {c:i for i,c in enumerate(char_inventory)}\n",
    "\n",
    "# One hot embedding size\n",
    "nchars = len(char_inventory)\n",
    "\n",
    "#Input length\n",
    "input_length = 1014\n",
    "\n",
    "# Decide which device we want to run on\n",
    "ngpu = 1\n",
    "device = th.device(\"cuda:0\" if (th.cuda.is_available() and ngpu > 0) else \"cpu\")\n",
    "\n",
    "#Batch size\n",
    "batch_size = 128\n",
    "\n",
    "#Number of threads for the data loader\n",
    "workers = 2\n",
    "\n",
    "#Number of epochs\n",
    "nepochs = 20"
   ]
  },
  {
   "cell_type": "code",
   "execution_count": 3,
   "metadata": {},
   "outputs": [
    {
     "name": "stdout",
     "output_type": "stream",
     "text": [
      "CharacterCNN(\n",
      "  (net): Sequential(\n",
      "    (0): Conv1d(70, 256, kernel_size=(7,), stride=(1,))\n",
      "    (1): MaxPool1d(kernel_size=3, stride=3, padding=0, dilation=1, ceil_mode=False)\n",
      "    (2): ReLU()\n",
      "    (3): Conv1d(256, 256, kernel_size=(7,), stride=(1,))\n",
      "    (4): MaxPool1d(kernel_size=3, stride=3, padding=0, dilation=1, ceil_mode=False)\n",
      "    (5): ReLU()\n",
      "    (6): Conv1d(256, 256, kernel_size=(3,), stride=(1,))\n",
      "    (7): ReLU()\n",
      "    (8): Conv1d(256, 256, kernel_size=(3,), stride=(1,))\n",
      "    (9): ReLU()\n",
      "    (10): Conv1d(256, 256, kernel_size=(3,), stride=(1,))\n",
      "    (11): ReLU()\n",
      "    (12): Conv1d(256, 256, kernel_size=(3,), stride=(1,))\n",
      "    (13): MaxPool1d(kernel_size=3, stride=3, padding=0, dilation=1, ceil_mode=False)\n",
      "    (14): ReLU()\n",
      "    (15): Flatten()\n",
      "    (16): Linear(in_features=8704, out_features=1024, bias=True)\n",
      "    (17): ReLU()\n",
      "    (18): Dropout(p=0.5)\n",
      "    (19): Linear(in_features=1024, out_features=1024, bias=True)\n",
      "    (20): ReLU()\n",
      "    (21): Dropout(p=0.5)\n",
      "    (22): Linear(in_features=1024, out_features=5, bias=True)\n",
      "  )\n",
      ")\n"
     ]
    }
   ],
   "source": [
    "cnn = CharacterCNN(nchars).to(device)\n",
    "# Apply the weights_init function to randomly initialize all weights\n",
    "cnn.apply(weights_init)\n",
    "cnn.train()\n",
    "# Print the model\n",
    "print(cnn)"
   ]
  },
  {
   "cell_type": "code",
   "execution_count": 4,
   "metadata": {},
   "outputs": [],
   "source": [
    "train_data = DatasetReader('./data/yelp_review_full_csv/train.csv', vocab, input_length, nchars)\n",
    "dataloader = th.utils.data.DataLoader(train_data, batch_size=batch_size,\n",
    "                                         shuffle=True, num_workers=workers)\n",
    "\n"
   ]
  },
  {
   "cell_type": "code",
   "execution_count": 5,
   "metadata": {},
   "outputs": [],
   "source": [
    "# The objective\n",
    "criterion = nn.CrossEntropyLoss()\n",
    "\n",
    "#Optimizer\n",
    "optimizer = optim.Adam(cnn.parameters())"
   ]
  },
  {
   "cell_type": "code",
   "execution_count": null,
   "metadata": {},
   "outputs": [],
   "source": [
    "losses = []\n",
    "lr = 0.01\n",
    "\n",
    "#Main training loop\n",
    "for epoch in range(0, nepochs):\n",
    "        \n",
    "    for i, batch in enumerate(dataloader):\n",
    "        inputs = batch[0].type(th.FloatTensor).to(device)\n",
    "        targets = batch[1].type(th.LongTensor).to(device)\n",
    "        \n",
    "        optimizer.zero_grad()\n",
    "        preds = cnn(inputs)\n",
    "        loss = criterion(preds, targets)\n",
    "        loss.backward()\n",
    "        optimizer.step()\n",
    "        \n",
    "        # Output training stats\n",
    "        if i % 5 == 0:\n",
    "            print('[%d/%d][%d/%d]\\tLoss: %.4f'\n",
    "                  % (epoch, nepochs, i, len(dataloader), loss.item()))\n",
    "            losses.append(loss)\n",
    "        if i % 100 == 0:\n",
    "            th.save({\n",
    "                'model': cnn.state_dict(),\n",
    "                'epoch': epoch,\n",
    "            }, './output/cnn.pth')\n",
    "th.save({\n",
    "    'model': cnn.state_dict(),\n",
    "    'epoch': epoch,\n",
    "}, './output/cnn.pth')"
   ]
  },
  {
   "cell_type": "markdown",
   "metadata": {},
   "source": [
    "# Eval"
   ]
  },
  {
   "cell_type": "code",
   "execution_count": 4,
   "metadata": {},
   "outputs": [],
   "source": [
    "test_data = DatasetReader('./data/yelp_review_full_csv/test.csv', vocab, input_length, nchars)\n",
    "dataloader = th.utils.data.DataLoader(test_data, batch_size=batch_size, num_workers=workers)\n"
   ]
  },
  {
   "cell_type": "code",
   "execution_count": 5,
   "metadata": {},
   "outputs": [
    {
     "data": {
      "text/plain": [
       "CharacterCNN(\n",
       "  (net): Sequential(\n",
       "    (0): Conv1d(70, 256, kernel_size=(7,), stride=(1,))\n",
       "    (1): MaxPool1d(kernel_size=3, stride=3, padding=0, dilation=1, ceil_mode=False)\n",
       "    (2): ReLU()\n",
       "    (3): Conv1d(256, 256, kernel_size=(7,), stride=(1,))\n",
       "    (4): MaxPool1d(kernel_size=3, stride=3, padding=0, dilation=1, ceil_mode=False)\n",
       "    (5): ReLU()\n",
       "    (6): Conv1d(256, 256, kernel_size=(3,), stride=(1,))\n",
       "    (7): ReLU()\n",
       "    (8): Conv1d(256, 256, kernel_size=(3,), stride=(1,))\n",
       "    (9): ReLU()\n",
       "    (10): Conv1d(256, 256, kernel_size=(3,), stride=(1,))\n",
       "    (11): ReLU()\n",
       "    (12): Conv1d(256, 256, kernel_size=(3,), stride=(1,))\n",
       "    (13): MaxPool1d(kernel_size=3, stride=3, padding=0, dilation=1, ceil_mode=False)\n",
       "    (14): ReLU()\n",
       "    (15): Flatten()\n",
       "    (16): Linear(in_features=8704, out_features=1024, bias=True)\n",
       "    (17): ReLU()\n",
       "    (18): Dropout(p=0.5)\n",
       "    (19): Linear(in_features=1024, out_features=1024, bias=True)\n",
       "    (20): ReLU()\n",
       "    (21): Dropout(p=0.5)\n",
       "    (22): Linear(in_features=1024, out_features=5, bias=True)\n",
       "  )\n",
       ")"
      ]
     },
     "execution_count": 5,
     "metadata": {},
     "output_type": "execute_result"
    }
   ],
   "source": [
    "cnn.load_state_dict(th.load('/home/dbw003/qsub_jobs/cnn-text-classification/cnn.pth')['model'])\n",
    "cnn.eval()"
   ]
  },
  {
   "cell_type": "code",
   "execution_count": 6,
   "metadata": {},
   "outputs": [
    {
     "name": "stderr",
     "output_type": "stream",
     "text": [
      "100%|██████████| 391/391 [02:45<00:00,  2.36it/s]\n"
     ]
    }
   ],
   "source": [
    "preds = []\n",
    "gt = []\n",
    "for batch in tqdm(dataloader):\n",
    "    inputs = batch[0].type(th.FloatTensor).to(device)\n",
    "    targets = batch[1].type(th.LongTensor).to(device)\n",
    "        \n",
    "    out = cnn(inputs)\n",
    "    preds.extend(list(np.argmax(out.cpu().data.numpy(), axis=1)))\n",
    "    gt.extend(list(targets.squeeze().cpu().data.numpy()))"
   ]
  },
  {
   "cell_type": "code",
   "execution_count": 7,
   "metadata": {},
   "outputs": [
    {
     "name": "stdout",
     "output_type": "stream",
     "text": [
      "Error rate: 0.3967\n"
     ]
    }
   ],
   "source": [
    "err_rate = sum([preds[i] != gt[i] for i in range(len(gt))] ) / len(gt)\n",
    "print(\"Error rate: %.4f\"%err_rate)"
   ]
  }
 ],
 "metadata": {
  "kernelspec": {
   "display_name": "jhubMachineLearning",
   "language": "python",
   "name": "jhubmachinelearning"
  },
  "language_info": {
   "codemirror_mode": {
    "name": "ipython",
    "version": 3
   },
   "file_extension": ".py",
   "mimetype": "text/x-python",
   "name": "python",
   "nbconvert_exporter": "python",
   "pygments_lexer": "ipython3",
   "version": "3.6.4"
  }
 },
 "nbformat": 4,
 "nbformat_minor": 2
}
